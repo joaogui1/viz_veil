{
 "cells": [
  {
   "cell_type": "code",
   "execution_count": 1,
   "id": "4a2558ca-4849-4a80-b20a-05cafe4e4a77",
   "metadata": {},
   "outputs": [],
   "source": [
    "import glob\n",
    "import pickle\n",
    "\n",
    "import numpy as np\n",
    "import pandas as pd\n",
    "import matplotlib.pyplot as plt\n",
    "\n",
    "import seaborn as sns"
   ]
  },
  {
   "cell_type": "code",
   "execution_count": 3,
   "id": "3c83094b-7325-4b9a-a374-dcbde23f5cf7",
   "metadata": {},
   "outputs": [],
   "source": [
    "with open(f'data/40M_experiments/human_normalized_curve/layer_funct_dense.pickle', mode='rb') as f:\n",
    "    data40M = pickle.load(f)"
   ]
  },
  {
   "cell_type": "code",
   "execution_count": 8,
   "id": "70c48c6f-6177-4259-91dd-57844472a2f6",
   "metadata": {},
   "outputs": [
    {
     "data": {
      "text/plain": [
       "(5, 26)"
      ]
     },
     "execution_count": 8,
     "metadata": {},
     "output_type": "execute_result"
    }
   ],
   "source": [
    "data40M['DER_layer_funct_dense']['DER_layer_funct_dense_relu'].sum(axis=-1).shape"
   ]
  },
  {
   "cell_type": "code",
   "execution_count": 3,
   "id": "72500473-8286-4d9b-8fd3-341cb93740f6",
   "metadata": {},
   "outputs": [],
   "source": [
    "with open(f'data/40M_experiments/curves_all_games/normalizations.pickle', mode='rb') as f:\n",
    "    data_batch = pickle.load(f)"
   ]
  },
  {
   "cell_type": "code",
   "execution_count": 4,
   "id": "bdb0d799-48bf-458f-9fb0-66be4e3ae2b5",
   "metadata": {},
   "outputs": [
    {
     "data": {
      "text/plain": [
       "dict_keys(['DER_normalizations', 'DrQ_eps_normalizations'])"
      ]
     },
     "execution_count": 4,
     "metadata": {},
     "output_type": "execute_result"
    }
   ],
   "source": [
    "data_batch.keys()"
   ]
  },
  {
   "cell_type": "code",
   "execution_count": 5,
   "id": "1e06943a-ebb9-442e-8c05-d53c51bf1f8f",
   "metadata": {},
   "outputs": [
    {
     "data": {
      "text/plain": [
       "0        non_normalization\n",
       "1        non_normalization\n",
       "2        non_normalization\n",
       "3        non_normalization\n",
       "4        non_normalization\n",
       "               ...        \n",
       "15953            LayerNorm\n",
       "15954            LayerNorm\n",
       "15955            LayerNorm\n",
       "15956            LayerNorm\n",
       "15957            LayerNorm\n",
       "Name: sweep, Length: 15958, dtype: object"
      ]
     },
     "execution_count": 5,
     "metadata": {},
     "output_type": "execute_result"
    }
   ],
   "source": [
    "data_batch['DER_normalizations']['returns']['sweep']"
   ]
  },
  {
   "cell_type": "code",
   "execution_count": 17,
   "id": "42ae75d2-d9fb-4c0d-8b92-8517fd7dd854",
   "metadata": {},
   "outputs": [],
   "source": [
    "param = \"replay_capacity\"\n",
    "data_regime = \"40M\"\n",
    "agent = \"DrQ_eps\""
   ]
  },
  {
   "cell_type": "code",
   "execution_count": 18,
   "id": "a67a929c-0eb2-4f8c-ae36-e66c4f6668aa",
   "metadata": {},
   "outputs": [],
   "source": [
    "with open(f'data/{data_regime}_experiments/curves_all_games/{param}.pickle', mode='rb') as f:\n",
    "    data = pickle.load(f)"
   ]
  },
  {
   "cell_type": "code",
   "execution_count": 19,
   "id": "6d5eae67-5990-4ca7-9bbc-907b9358a05b",
   "metadata": {},
   "outputs": [
    {
     "data": {
      "text/plain": [
       "dict_keys(['DER_replay_capacity', 'DrQ_eps_replay_capacity'])"
      ]
     },
     "execution_count": 19,
     "metadata": {},
     "output_type": "execute_result"
    }
   ],
   "source": [
    "data.keys()"
   ]
  },
  {
   "cell_type": "code",
   "execution_count": 20,
   "id": "dd40896b-0feb-46fa-8f3c-55313a267403",
   "metadata": {},
   "outputs": [
    {
     "data": {
      "text/plain": [
       "10000000             5736\n",
       "1000000 (default)    5320\n",
       "100000               5267\n",
       "50000                5259\n",
       "Name: sweep, dtype: int64"
      ]
     },
     "execution_count": 20,
     "metadata": {},
     "output_type": "execute_result"
    }
   ],
   "source": [
    "data[f'{agent}_{param}']['returns']['sweep'].value_counts()"
   ]
  },
  {
   "cell_type": "code",
   "execution_count": 12,
   "id": "15fe1c08-d955-499a-9dc5-362c407daccb",
   "metadata": {},
   "outputs": [],
   "source": [
    "data[f'{agent}_{param}']['returns']['sweep'] = data[f'{agent}_{param}']['returns']['sweep'].replace('100000', '100000 (default)')"
   ]
  },
  {
   "cell_type": "code",
   "execution_count": 13,
   "id": "9c072c26-8822-438f-96e4-fa11e2d13628",
   "metadata": {},
   "outputs": [],
   "source": [
    "with open(f'data/{data_regime}_experiments/curves_all_games/{param}.pickle', mode='wb') as f:\n",
    "    pickle.dump(data, f, protocol=pickle.HIGHEST_PROTOCOL)"
   ]
  },
  {
   "cell_type": "code",
   "execution_count": 12,
   "id": "0df3ed21-1ee1-4eec-822a-a06d57f098d4",
   "metadata": {},
   "outputs": [],
   "source": [
    "with open(f'data/100k_experiments/human_normalized_curve/layer_funct_dense.pickle', mode='rb') as f:\n",
    "    data100k = pickle.load(f)"
   ]
  },
  {
   "cell_type": "code",
   "execution_count": 4,
   "id": "3fc2bb6d-f449-47ae-86a9-41b524a703bf",
   "metadata": {
    "tags": []
   },
   "outputs": [
    {
     "data": {
      "text/plain": [
       "(dict_keys(['DER_min_replay_history', 'DrQ_eps_min_replay_history']),\n",
       " dict_keys(['DER_min_replay_history', 'DrQ_eps_min_replay_history']))"
      ]
     },
     "execution_count": 9,
     "metadata": {},
     "output_type": "execute_result"
    }
   ],
   "source": [
    "data40M.keys(), data100k.keys()"
   ]
  },
  {
   "cell_type": "code",
   "execution_count": 13,
   "id": "b4fff847-0771-49df-8dce-18dcd7213d51",
   "metadata": {},
   "outputs": [
    {
     "data": {
      "text/plain": [
       "(dict_keys(['DrQ_eps_layer_funct_dense_relu', 'DrQ_eps_layer_funct_dense_relu6', 'DrQ_eps_layer_funct_dense_gelu', 'DrQ_eps_layer_funct_dense_elu', 'DrQ_eps_layer_funct_dense_silu', 'DrQ_eps_layer_funct_dense_LeakyReLU']),\n",
       " dict_keys(['DER_layer_funct_dense_relu', 'DER_layer_funct_dense_relu6', 'DER_layer_funct_dense_gelu', 'DER_layer_funct_dense_elu', 'DER_layer_funct_dense_silu', 'DER_layer_funct_dense_LeakyReLU']))"
      ]
     },
     "execution_count": 13,
     "metadata": {},
     "output_type": "execute_result"
    }
   ],
   "source": [
    "(data40M['DrQ_eps_layer_funct_dense'].keys(), \n",
    "data40M['DER_layer_funct_dense'].keys())"
   ]
  },
  {
   "cell_type": "code",
   "execution_count": 15,
   "id": "3028fa76-5226-4e38-8f3b-3e1107ae8b4e",
   "metadata": {},
   "outputs": [
    {
     "data": {
      "text/plain": [
       "((5, 26, 10), (5, 26, 10))"
      ]
     },
     "execution_count": 15,
     "metadata": {},
     "output_type": "execute_result"
    }
   ],
   "source": [
    "(data100k['DrQ_eps_layer_funct_dense']['DrQ_eps_layer_funct_dense_LeakyReLU'].shape, \n",
    "data100k['DER_layer_funct_dense']['DER_layer_funct_dense_LeakyReLU'].shape)"
   ]
  },
  {
   "cell_type": "code",
   "execution_count": 14,
   "id": "8684d459-4c35-49b9-9dc2-671b3c2f3a58",
   "metadata": {},
   "outputs": [],
   "source": [
    "with open(f'data/40M_experiments/curves_all_games/gammas.pickle', mode='rb') as f:\n",
    "    data40M = pickle.load(f)"
   ]
  },
  {
   "cell_type": "code",
   "execution_count": 15,
   "id": "4d79ef05-11a8-4895-a1b8-254a1ae35aa0",
   "metadata": {},
   "outputs": [
    {
     "data": {
      "text/plain": [
       "dict_keys(['DER_gammas', 'DrQ_eps_gammas'])"
      ]
     },
     "execution_count": 15,
     "metadata": {},
     "output_type": "execute_result"
    }
   ],
   "source": [
    "data40M.keys()"
   ]
  },
  {
   "cell_type": "code",
   "execution_count": 16,
   "id": "5bafc833-8a98-4712-8aff-6384c1eb7eb9",
   "metadata": {},
   "outputs": [
    {
     "data": {
      "text/html": [
       "<div>\n",
       "<style scoped>\n",
       "    .dataframe tbody tr th:only-of-type {\n",
       "        vertical-align: middle;\n",
       "    }\n",
       "\n",
       "    .dataframe tbody tr th {\n",
       "        vertical-align: top;\n",
       "    }\n",
       "\n",
       "    .dataframe thead th {\n",
       "        text-align: right;\n",
       "    }\n",
       "</style>\n",
       "<table border=\"1\" class=\"dataframe\">\n",
       "  <thead>\n",
       "    <tr style=\"text-align: right;\">\n",
       "      <th></th>\n",
       "      <th>env</th>\n",
       "      <th>step</th>\n",
       "      <th>val</th>\n",
       "      <th>sweep</th>\n",
       "    </tr>\n",
       "  </thead>\n",
       "  <tbody>\n",
       "    <tr>\n",
       "      <th>0</th>\n",
       "      <td>Alien</td>\n",
       "      <td>0</td>\n",
       "      <td>697.683716</td>\n",
       "      <td>0.9</td>\n",
       "    </tr>\n",
       "    <tr>\n",
       "      <th>1</th>\n",
       "      <td>Alien</td>\n",
       "      <td>1</td>\n",
       "      <td>900.631287</td>\n",
       "      <td>0.9</td>\n",
       "    </tr>\n",
       "    <tr>\n",
       "      <th>2</th>\n",
       "      <td>Alien</td>\n",
       "      <td>2</td>\n",
       "      <td>1055.164795</td>\n",
       "      <td>0.9</td>\n",
       "    </tr>\n",
       "    <tr>\n",
       "      <th>3</th>\n",
       "      <td>Alien</td>\n",
       "      <td>3</td>\n",
       "      <td>1060.720215</td>\n",
       "      <td>0.9</td>\n",
       "    </tr>\n",
       "    <tr>\n",
       "      <th>4</th>\n",
       "      <td>Alien</td>\n",
       "      <td>4</td>\n",
       "      <td>1108.267090</td>\n",
       "      <td>0.9</td>\n",
       "    </tr>\n",
       "    <tr>\n",
       "      <th>...</th>\n",
       "      <td>...</td>\n",
       "      <td>...</td>\n",
       "      <td>...</td>\n",
       "      <td>...</td>\n",
       "    </tr>\n",
       "    <tr>\n",
       "      <th>15879</th>\n",
       "      <td>UpNDown</td>\n",
       "      <td>36</td>\n",
       "      <td>9898.988281</td>\n",
       "      <td>0.999</td>\n",
       "    </tr>\n",
       "    <tr>\n",
       "      <th>15880</th>\n",
       "      <td>UpNDown</td>\n",
       "      <td>37</td>\n",
       "      <td>10065.808594</td>\n",
       "      <td>0.999</td>\n",
       "    </tr>\n",
       "    <tr>\n",
       "      <th>15881</th>\n",
       "      <td>UpNDown</td>\n",
       "      <td>38</td>\n",
       "      <td>9328.166992</td>\n",
       "      <td>0.999</td>\n",
       "    </tr>\n",
       "    <tr>\n",
       "      <th>15882</th>\n",
       "      <td>UpNDown</td>\n",
       "      <td>39</td>\n",
       "      <td>9176.910156</td>\n",
       "      <td>0.999</td>\n",
       "    </tr>\n",
       "    <tr>\n",
       "      <th>15883</th>\n",
       "      <td>UpNDown</td>\n",
       "      <td>40</td>\n",
       "      <td>9169.668945</td>\n",
       "      <td>0.999</td>\n",
       "    </tr>\n",
       "  </tbody>\n",
       "</table>\n",
       "<p>15884 rows × 4 columns</p>\n",
       "</div>"
      ],
      "text/plain": [
       "           env  step           val  sweep\n",
       "0        Alien     0    697.683716    0.9\n",
       "1        Alien     1    900.631287    0.9\n",
       "2        Alien     2   1055.164795    0.9\n",
       "3        Alien     3   1060.720215    0.9\n",
       "4        Alien     4   1108.267090    0.9\n",
       "...        ...   ...           ...    ...\n",
       "15879  UpNDown    36   9898.988281  0.999\n",
       "15880  UpNDown    37  10065.808594  0.999\n",
       "15881  UpNDown    38   9328.166992  0.999\n",
       "15882  UpNDown    39   9176.910156  0.999\n",
       "15883  UpNDown    40   9169.668945  0.999\n",
       "\n",
       "[15884 rows x 4 columns]"
      ]
     },
     "execution_count": 16,
     "metadata": {},
     "output_type": "execute_result"
    }
   ],
   "source": [
    "data40M['DrQ_eps_gammas']['returns']"
   ]
  },
  {
   "cell_type": "code",
   "execution_count": 14,
   "id": "3b754bb9-7d79-4ae5-89b4-255cc18967dc",
   "metadata": {},
   "outputs": [
    {
     "data": {
      "text/plain": [
       "array(['Alien', 'Amidar', 'Assault', 'Asterix', 'BankHeist', 'BattleZone',\n",
       "       'Boxing', 'Breakout', 'ChopperCommand', 'CrazyClimber',\n",
       "       'DemonAttack', 'Freeway', 'Frostbite', 'Gopher', 'Hero',\n",
       "       'Jamesbond', 'Kangaroo', 'Krull', 'KungFuMaster', 'MsPacman',\n",
       "       'Pong', 'PrivateEye', 'Qbert', 'RoadRunner', 'Seaquest', 'UpNDown'],\n",
       "      dtype=object)"
      ]
     },
     "execution_count": 14,
     "metadata": {},
     "output_type": "execute_result"
    }
   ],
   "source": [
    "np.unique(data40M['DER_update_periods']['returns']['env'])"
   ]
  },
  {
   "cell_type": "code",
   "execution_count": 16,
   "id": "538e0f9a-bfb2-4f62-b936-d1647ee6ad2a",
   "metadata": {},
   "outputs": [],
   "source": [
    "env_data = data40M['DER_update_periods']['returns'][data40M['DER_update_periods']['returns']['env'] == 'Amidar']"
   ]
  },
  {
   "cell_type": "code",
   "execution_count": 18,
   "id": "d636fa92-0715-416d-acc5-2f4433233fa6",
   "metadata": {},
   "outputs": [
    {
     "data": {
      "text/html": [
       "<div>\n",
       "<style scoped>\n",
       "    .dataframe tbody tr th:only-of-type {\n",
       "        vertical-align: middle;\n",
       "    }\n",
       "\n",
       "    .dataframe tbody tr th {\n",
       "        vertical-align: top;\n",
       "    }\n",
       "\n",
       "    .dataframe thead th {\n",
       "        text-align: right;\n",
       "    }\n",
       "</style>\n",
       "<table border=\"1\" class=\"dataframe\">\n",
       "  <thead>\n",
       "    <tr style=\"text-align: right;\">\n",
       "      <th></th>\n",
       "      <th>env</th>\n",
       "      <th>step</th>\n",
       "      <th>val</th>\n",
       "      <th>sweep</th>\n",
       "    </tr>\n",
       "  </thead>\n",
       "  <tbody>\n",
       "    <tr>\n",
       "      <th>820</th>\n",
       "      <td>Amidar</td>\n",
       "      <td>0</td>\n",
       "      <td>181.012985</td>\n",
       "      <td>1 (default)</td>\n",
       "    </tr>\n",
       "    <tr>\n",
       "      <th>821</th>\n",
       "      <td>Amidar</td>\n",
       "      <td>1</td>\n",
       "      <td>353.922211</td>\n",
       "      <td>1 (default)</td>\n",
       "    </tr>\n",
       "    <tr>\n",
       "      <th>822</th>\n",
       "      <td>Amidar</td>\n",
       "      <td>2</td>\n",
       "      <td>469.087494</td>\n",
       "      <td>1 (default)</td>\n",
       "    </tr>\n",
       "    <tr>\n",
       "      <th>823</th>\n",
       "      <td>Amidar</td>\n",
       "      <td>3</td>\n",
       "      <td>657.903687</td>\n",
       "      <td>1 (default)</td>\n",
       "    </tr>\n",
       "    <tr>\n",
       "      <th>824</th>\n",
       "      <td>Amidar</td>\n",
       "      <td>4</td>\n",
       "      <td>855.118103</td>\n",
       "      <td>1 (default)</td>\n",
       "    </tr>\n",
       "    <tr>\n",
       "      <th>...</th>\n",
       "      <td>...</td>\n",
       "      <td>...</td>\n",
       "      <td>...</td>\n",
       "      <td>...</td>\n",
       "    </tr>\n",
       "    <tr>\n",
       "      <th>1636</th>\n",
       "      <td>Amidar</td>\n",
       "      <td>36</td>\n",
       "      <td>1043.019775</td>\n",
       "      <td>6</td>\n",
       "    </tr>\n",
       "    <tr>\n",
       "      <th>1637</th>\n",
       "      <td>Amidar</td>\n",
       "      <td>37</td>\n",
       "      <td>935.527283</td>\n",
       "      <td>6</td>\n",
       "    </tr>\n",
       "    <tr>\n",
       "      <th>1638</th>\n",
       "      <td>Amidar</td>\n",
       "      <td>38</td>\n",
       "      <td>1236.022949</td>\n",
       "      <td>6</td>\n",
       "    </tr>\n",
       "    <tr>\n",
       "      <th>1639</th>\n",
       "      <td>Amidar</td>\n",
       "      <td>39</td>\n",
       "      <td>1214.818237</td>\n",
       "      <td>6</td>\n",
       "    </tr>\n",
       "    <tr>\n",
       "      <th>1640</th>\n",
       "      <td>Amidar</td>\n",
       "      <td>40</td>\n",
       "      <td>770.688538</td>\n",
       "      <td>6</td>\n",
       "    </tr>\n",
       "  </tbody>\n",
       "</table>\n",
       "<p>821 rows × 4 columns</p>\n",
       "</div>"
      ],
      "text/plain": [
       "         env  step          val        sweep\n",
       "820   Amidar     0   181.012985  1 (default)\n",
       "821   Amidar     1   353.922211  1 (default)\n",
       "822   Amidar     2   469.087494  1 (default)\n",
       "823   Amidar     3   657.903687  1 (default)\n",
       "824   Amidar     4   855.118103  1 (default)\n",
       "...      ...   ...          ...          ...\n",
       "1636  Amidar    36  1043.019775            6\n",
       "1637  Amidar    37   935.527283            6\n",
       "1638  Amidar    38  1236.022949            6\n",
       "1639  Amidar    39  1214.818237            6\n",
       "1640  Amidar    40   770.688538            6\n",
       "\n",
       "[821 rows x 4 columns]"
      ]
     },
     "execution_count": 18,
     "metadata": {},
     "output_type": "execute_result"
    }
   ],
   "source": [
    "env_data"
   ]
  },
  {
   "cell_type": "code",
   "execution_count": 6,
   "id": "aafd5ad9-f4b5-43fb-82e0-4edb3c607de9",
   "metadata": {},
   "outputs": [],
   "source": [
    "with open(f'data/100k_experiments/human_normalized_curve/convs_normalization.pickle', mode='wb') as f:\n",
    "    pickle.dump(data2, f, protocol=pickle.HIGHEST_PROTOCOL)"
   ]
  },
  {
   "cell_type": "code",
   "execution_count": 12,
   "id": "25c132c3-ddca-488c-a54a-270f5d66b430",
   "metadata": {},
   "outputs": [
    {
     "data": {
      "text/plain": [
       "((5, 26), (5, 26, 40))"
      ]
     },
     "execution_count": 12,
     "metadata": {},
     "output_type": "execute_result"
    }
   ],
   "source": [
    "data['DER_depths']['DER_depths_1'].shape, data2['DER_convs_normalization']['DER_normalizations_convs_non_normalization'].shape"
   ]
  },
  {
   "cell_type": "code",
   "execution_count": 44,
   "id": "c55b9c5c-ea90-403d-85aa-e74acb2ac056",
   "metadata": {},
   "outputs": [
    {
     "data": {
      "text/plain": [
       "(dict_keys(['DER_convs_normalization', 'DrQ_eps_convs_normalization']),\n",
       " dict_keys(['DER_convs_normalization', 'DrQ_eps_convs_normalization']))"
      ]
     },
     "execution_count": 44,
     "metadata": {},
     "output_type": "execute_result"
    }
   ],
   "source": [
    "data100k.keys(), data40M.keys()"
   ]
  },
  {
   "cell_type": "code",
   "execution_count": 22,
   "id": "c8565f68-7a37-4b3d-bb4f-b8b2fd372330",
   "metadata": {},
   "outputs": [
    {
     "data": {
      "text/plain": [
       "['update_periods',\n",
       " 'min_replay_history',\n",
       " 'learning_rate',\n",
       " 'epsilon',\n",
       " 'widths',\n",
       " 'target_update_periods',\n",
       " 'clip_rewards',\n",
       " 'weightdecay',\n",
       " 'convs_normalization',\n",
       " 'optimizers',\n",
       " 'depths',\n",
       " 'normalizations',\n",
       " 'gammas',\n",
       " 'update_horizon',\n",
       " 'num_atoms',\n",
       " 'convs',\n",
       " 'replay_capacity',\n",
       " 'layer_funct',\n",
       " 'batch_sizes']"
      ]
     },
     "execution_count": 22,
     "metadata": {},
     "output_type": "execute_result"
    }
   ],
   "source": [
    "final_perf_data = [data.split('/')[-1][:-7] for data in glob.glob(\"data/100k_experiments/final_perf/*\")]\n",
    "final_perf_data"
   ]
  },
  {
   "cell_type": "code",
   "execution_count": 23,
   "id": "0e980750-b4cd-47c8-a16b-8bec6ac6bdd3",
   "metadata": {},
   "outputs": [
    {
     "data": {
      "text/plain": [
       "['min_replay_history',\n",
       " 'learning_rate',\n",
       " 'epsilon',\n",
       " 'weightdecay',\n",
       " 'normalizations_convs',\n",
       " 'depths',\n",
       " 'normalizations',\n",
       " 'gammas',\n",
       " 'update_horizon',\n",
       " 'num_atoms',\n",
       " 'layer_funct']"
      ]
     },
     "execution_count": 23,
     "metadata": {},
     "output_type": "execute_result"
    }
   ],
   "source": [
    "hns_data = [data.split('/')[-1][:-7] for data in glob.glob(\"data/100k_experiments/human_normalized_curve/*\")]\n",
    "hns_data"
   ]
  },
  {
   "cell_type": "code",
   "execution_count": 24,
   "id": "aa780526-7da9-4857-85fb-5c8a81949a4b",
   "metadata": {},
   "outputs": [
    {
     "data": {
      "text/plain": [
       "{'batch_sizes',\n",
       " 'clip_rewards',\n",
       " 'convs',\n",
       " 'convs_normalization',\n",
       " 'optimizers',\n",
       " 'replay_capacity',\n",
       " 'target_update_periods',\n",
       " 'update_periods',\n",
       " 'widths'}"
      ]
     },
     "execution_count": 24,
     "metadata": {},
     "output_type": "execute_result"
    }
   ],
   "source": [
    "set(final_perf_data) - set(hns_data)"
   ]
  },
  {
   "cell_type": "code",
   "execution_count": null,
   "id": "c6074f45-9d22-45ff-86dd-60930ccb52c0",
   "metadata": {},
   "outputs": [],
   "source": []
  }
 ],
 "metadata": {
  "kernelspec": {
   "display_name": "Python 3 (ipykernel)",
   "language": "python",
   "name": "python3"
  },
  "language_info": {
   "codemirror_mode": {
    "name": "ipython",
    "version": 3
   },
   "file_extension": ".py",
   "mimetype": "text/x-python",
   "name": "python",
   "nbconvert_exporter": "python",
   "pygments_lexer": "ipython3",
   "version": "3.8.11"
  }
 },
 "nbformat": 4,
 "nbformat_minor": 5
}
