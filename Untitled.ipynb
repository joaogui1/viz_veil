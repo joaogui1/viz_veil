{
 "cells": [
  {
   "cell_type": "code",
   "execution_count": 1,
   "id": "4a2558ca-4849-4a80-b20a-05cafe4e4a77",
   "metadata": {},
   "outputs": [],
   "source": [
    "import glob\n",
    "import pickle\n",
    "\n",
    "import numpy as np\n",
    "import pandas as pd\n",
    "import matplotlib.pyplot as plt\n",
    "\n",
    "import seaborn as sns"
   ]
  },
  {
   "cell_type": "code",
   "execution_count": 2,
   "id": "3c83094b-7325-4b9a-a374-dcbde23f5cf7",
   "metadata": {},
   "outputs": [],
   "source": [
    "# with open(f'data/40M_experiments/human_normalized_curve/depths.pickle', mode='rb') as f:\n",
    "#     data = pickle.load(f)"
   ]
  },
  {
   "cell_type": "code",
   "execution_count": 3,
   "id": "0df3ed21-1ee1-4eec-822a-a06d57f098d4",
   "metadata": {},
   "outputs": [],
   "source": [
    "with open(f'data/100k_experiments/human_normalized_curve/convs_normalization.pickle', mode='rb') as f:\n",
    "    data2 = pickle.load(f)"
   ]
  },
  {
   "cell_type": "code",
   "execution_count": 4,
   "id": "b4fff847-0771-49df-8dce-18dcd7213d51",
   "metadata": {},
   "outputs": [
    {
     "data": {
      "text/plain": [
       "dict_keys(['DER_convs_normalizations', 'DrQ_eps_convs_normalizations'])"
      ]
     },
     "execution_count": 4,
     "metadata": {},
     "output_type": "execute_result"
    }
   ],
   "source": [
    "data2.keys()"
   ]
  },
  {
   "cell_type": "code",
   "execution_count": 5,
   "id": "8684d459-4c35-49b9-9dc2-671b3c2f3a58",
   "metadata": {},
   "outputs": [],
   "source": [
    "data2[\"DER_convs_normalization\"] = data2.pop(\"DER_convs_normalizations\")\n",
    "data2[\"DrQ_eps_convs_normalization\"] = data2.pop(\"DrQ_eps_convs_normalizations\")"
   ]
  },
  {
   "cell_type": "code",
   "execution_count": 6,
   "id": "aafd5ad9-f4b5-43fb-82e0-4edb3c607de9",
   "metadata": {},
   "outputs": [],
   "source": [
    "with open(f'data/100k_experiments/human_normalized_curve/convs_normalization.pickle', mode='wb') as f:\n",
    "    pickle.dump(data2, f, protocol=pickle.HIGHEST_PROTOCOL)"
   ]
  },
  {
   "cell_type": "code",
   "execution_count": 12,
   "id": "25c132c3-ddca-488c-a54a-270f5d66b430",
   "metadata": {},
   "outputs": [
    {
     "data": {
      "text/plain": [
       "((5, 26), (5, 26, 40))"
      ]
     },
     "execution_count": 12,
     "metadata": {},
     "output_type": "execute_result"
    }
   ],
   "source": [
    "data['DER_depths']['DER_depths_1'].shape, data2['DER_convs_normalization']['DER_normalizations_convs_non_normalization'].shape"
   ]
  },
  {
   "cell_type": "code",
   "execution_count": 44,
   "id": "c55b9c5c-ea90-403d-85aa-e74acb2ac056",
   "metadata": {},
   "outputs": [
    {
     "data": {
      "text/plain": [
       "(dict_keys(['DER_convs_normalization', 'DrQ_eps_convs_normalization']),\n",
       " dict_keys(['DER_convs_normalization', 'DrQ_eps_convs_normalization']))"
      ]
     },
     "execution_count": 44,
     "metadata": {},
     "output_type": "execute_result"
    }
   ],
   "source": [
    "data100k.keys(), data40M.keys()"
   ]
  },
  {
   "cell_type": "code",
   "execution_count": 22,
   "id": "c8565f68-7a37-4b3d-bb4f-b8b2fd372330",
   "metadata": {},
   "outputs": [
    {
     "data": {
      "text/plain": [
       "['update_periods',\n",
       " 'min_replay_history',\n",
       " 'learning_rate',\n",
       " 'epsilon',\n",
       " 'widths',\n",
       " 'target_update_periods',\n",
       " 'clip_rewards',\n",
       " 'weightdecay',\n",
       " 'convs_normalization',\n",
       " 'optimizers',\n",
       " 'depths',\n",
       " 'normalizations',\n",
       " 'gammas',\n",
       " 'update_horizon',\n",
       " 'num_atoms',\n",
       " 'convs',\n",
       " 'replay_capacity',\n",
       " 'layer_funct',\n",
       " 'batch_sizes']"
      ]
     },
     "execution_count": 22,
     "metadata": {},
     "output_type": "execute_result"
    }
   ],
   "source": [
    "final_perf_data = [data.split('/')[-1][:-7] for data in glob.glob(\"data/100k_experiments/final_perf/*\")]\n",
    "final_perf_data"
   ]
  },
  {
   "cell_type": "code",
   "execution_count": 23,
   "id": "0e980750-b4cd-47c8-a16b-8bec6ac6bdd3",
   "metadata": {},
   "outputs": [
    {
     "data": {
      "text/plain": [
       "['min_replay_history',\n",
       " 'learning_rate',\n",
       " 'epsilon',\n",
       " 'weightdecay',\n",
       " 'normalizations_convs',\n",
       " 'depths',\n",
       " 'normalizations',\n",
       " 'gammas',\n",
       " 'update_horizon',\n",
       " 'num_atoms',\n",
       " 'layer_funct']"
      ]
     },
     "execution_count": 23,
     "metadata": {},
     "output_type": "execute_result"
    }
   ],
   "source": [
    "hns_data = [data.split('/')[-1][:-7] for data in glob.glob(\"data/100k_experiments/human_normalized_curve/*\")]\n",
    "hns_data"
   ]
  },
  {
   "cell_type": "code",
   "execution_count": 24,
   "id": "aa780526-7da9-4857-85fb-5c8a81949a4b",
   "metadata": {},
   "outputs": [
    {
     "data": {
      "text/plain": [
       "{'batch_sizes',\n",
       " 'clip_rewards',\n",
       " 'convs',\n",
       " 'convs_normalization',\n",
       " 'optimizers',\n",
       " 'replay_capacity',\n",
       " 'target_update_periods',\n",
       " 'update_periods',\n",
       " 'widths'}"
      ]
     },
     "execution_count": 24,
     "metadata": {},
     "output_type": "execute_result"
    }
   ],
   "source": [
    "set(final_perf_data) - set(hns_data)"
   ]
  },
  {
   "cell_type": "code",
   "execution_count": null,
   "id": "c6074f45-9d22-45ff-86dd-60930ccb52c0",
   "metadata": {},
   "outputs": [],
   "source": []
  }
 ],
 "metadata": {
  "kernelspec": {
   "display_name": "Python 3 (ipykernel)",
   "language": "python",
   "name": "python3"
  },
  "language_info": {
   "codemirror_mode": {
    "name": "ipython",
    "version": 3
   },
   "file_extension": ".py",
   "mimetype": "text/x-python",
   "name": "python",
   "nbconvert_exporter": "python",
   "pygments_lexer": "ipython3",
   "version": "3.8.11"
  }
 },
 "nbformat": 4,
 "nbformat_minor": 5
}
