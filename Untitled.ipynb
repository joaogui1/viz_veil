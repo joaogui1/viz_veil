{
 "cells": [
  {
   "cell_type": "code",
   "execution_count": 6,
   "id": "4a2558ca-4849-4a80-b20a-05cafe4e4a77",
   "metadata": {},
   "outputs": [],
   "source": [
    "import glob\n",
    "import pickle\n",
    "\n",
    "import numpy as np\n",
    "import pandas as pd\n",
    "import matplotlib.pyplot as plt\n",
    "\n",
    "import seaborn as sns"
   ]
  },
  {
   "cell_type": "code",
   "execution_count": 44,
   "id": "3c83094b-7325-4b9a-a374-dcbde23f5cf7",
   "metadata": {},
   "outputs": [],
   "source": [
    "with open(f'data/40M_experiments/human_normalized_curve/layer_funct_dense.pickle', mode='rb') as f:\n",
    "    data40M = pickle.load(f)"
   ]
  },
  {
   "cell_type": "code",
   "execution_count": 45,
   "id": "0df3ed21-1ee1-4eec-822a-a06d57f098d4",
   "metadata": {},
   "outputs": [],
   "source": [
    "with open(f'data/100k_experiments/human_normalized_curve/layer_funct_dense.pickle', mode='rb') as f:\n",
    "    data100k = pickle.load(f)"
   ]
  },
  {
   "cell_type": "code",
   "execution_count": 46,
   "id": "3fc2bb6d-f449-47ae-86a9-41b524a703bf",
   "metadata": {
    "tags": []
   },
   "outputs": [
    {
     "data": {
      "text/plain": [
       "(dict_keys(['DER_layer_funct_dense', 'DrQ_eps_layer_funct_dense']),\n",
       " dict_keys(['DER_layer_funct_dense', 'DrQ_eps_layer_funct_dense']))"
      ]
     },
     "execution_count": 46,
     "metadata": {},
     "output_type": "execute_result"
    }
   ],
   "source": [
    "data40M.keys(), data100k.keys()"
   ]
  },
  {
   "cell_type": "code",
   "execution_count": 47,
   "id": "b4fff847-0771-49df-8dce-18dcd7213d51",
   "metadata": {},
   "outputs": [
    {
     "data": {
      "text/plain": [
       "(['DrQ_eps_layer_funct_dense_leaky_relu'],\n",
       " ['DER_layer_funct_dense_leaky_relu'])"
      ]
     },
     "execution_count": 47,
     "metadata": {},
     "output_type": "execute_result"
    }
   ],
   "source": [
    "(data40M['DrQ_eps_layer_funct_dense']['DrQ_eps_layer_funct_dense_LeakyReLU'], \n",
    "data40M['DER_layer_funct_dense']['DER_layer_funct_dense_LeakyReLU'])"
   ]
  },
  {
   "cell_type": "code",
   "execution_count": 48,
   "id": "3028fa76-5226-4e38-8f3b-3e1107ae8b4e",
   "metadata": {},
   "outputs": [
    {
     "data": {
      "text/plain": [
       "(array([[[ 1.53233260e-02,  2.70273052e-02,  5.36322445e-02, ...,\n",
       "           7.31701478e-02,  7.85808489e-02,  9.39192325e-02],\n",
       "         [ 1.79728083e-02,  5.88589981e-02,  5.02032638e-02, ...,\n",
       "           7.15729371e-02,  7.07772151e-02,  8.40287134e-02],\n",
       "         [ 1.35103956e-01,  6.06748879e-01,  5.39389312e-01, ...,\n",
       "           6.83169782e-01,  5.95415294e-01,  7.15646684e-01],\n",
       "         ...,\n",
       "         [-4.86078061e-04,  1.91081047e-01,  5.97455323e-01, ...,\n",
       "           1.97976637e+00,  1.98997891e+00,  2.05636048e+00],\n",
       "         [ 2.14990764e-03,  3.06630624e-03,  5.60269319e-03, ...,\n",
       "           8.04071780e-03,  7.80254509e-03,  6.94512250e-03],\n",
       "         [ 3.05103045e-02,  7.04009056e-01,  5.65789700e-01, ...,\n",
       "           7.88463950e-01,  6.29410923e-01,  8.93976569e-01]],\n",
       " \n",
       "        [[ 1.97808240e-02,  6.62060827e-02,  7.32296035e-02, ...,\n",
       "           1.33533329e-01,  1.36966795e-01,  1.21093549e-01],\n",
       "         [ 8.21322296e-03,  4.84526679e-02,  5.28291613e-02, ...,\n",
       "           6.39339685e-02,  5.75460494e-02,  5.74090071e-02],\n",
       "         [ 1.26250982e-01,  6.56225979e-01,  8.59828174e-01, ...,\n",
       "           8.73219848e-01,  8.16892087e-01,  1.59776747e+00],\n",
       "         ...,\n",
       "         [ 2.02336125e-02,  1.18065186e-01,  1.86535686e-01, ...,\n",
       "           1.26105833e+00,  1.42062938e+00,  1.46426475e+00],\n",
       "         [ 2.24517682e-03,  2.58472585e-03,  3.16838012e-03, ...,\n",
       "           5.75425802e-03,  6.32587308e-03,  7.32619921e-03],\n",
       "         [ 7.63096139e-02,  1.96098313e-01,  2.13334173e-01, ...,\n",
       "           3.63277137e-01,  3.62093031e-01,  3.28890324e-01]],\n",
       " \n",
       "        [[ 1.34430267e-02,  3.64606716e-02,  3.33475471e-02, ...,\n",
       "           5.21070361e-02,  6.79898411e-02,  6.17068969e-02],\n",
       "         [ 1.11351768e-02,  6.62681013e-02,  7.09363595e-02, ...,\n",
       "           9.45193246e-02,  9.03308690e-02,  8.20706338e-02],\n",
       "         [ 1.83987707e-01,  3.10483605e-01,  4.32832956e-01, ...,\n",
       "           9.11710978e-01,  5.45804501e-01,  8.05619776e-01],\n",
       "         ...,\n",
       "         [ 3.84247154e-02,  1.22707255e-01,  4.05970097e-01, ...,\n",
       "           1.32190812e+00,  1.32474482e+00,  1.29424906e+00],\n",
       "         [ 2.35178741e-03,  3.76948342e-03,  3.69009213e-03, ...,\n",
       "           6.16564788e-03,  9.22099687e-03,  9.98182781e-03],\n",
       "         [ 1.00294508e-01,  1.69949278e-01,  2.41014779e-01, ...,\n",
       "           3.21273685e-01,  3.37386996e-01,  4.58612949e-01]],\n",
       " \n",
       "        [[ 1.19984671e-02,  4.74692881e-02,  7.54592940e-02, ...,\n",
       "           1.46456242e-01,  1.28525838e-01,  1.63727000e-01],\n",
       "         [ 1.94899943e-02,  3.97071540e-02,  4.53891195e-02, ...,\n",
       "           9.00455862e-02,  1.16166778e-01,  1.00095309e-01],\n",
       "         [ 1.78214028e-01,  4.87640083e-01,  5.91352403e-01, ...,\n",
       "           6.65340841e-01,  8.97276819e-01,  5.59853733e-01],\n",
       "         ...,\n",
       "         [ 3.33074331e-02,  1.77251548e-01,  4.82646018e-01, ...,\n",
       "           1.37467289e+00,  1.35517621e+00,  1.65296483e+00],\n",
       "         [ 1.76883105e-03,  2.35178741e-03,  3.23642977e-03, ...,\n",
       "           4.60308883e-03,  5.07943425e-03,  6.20895158e-03],\n",
       "         [ 4.14418094e-02,  8.05339515e-02,  1.99619263e-01, ...,\n",
       "           2.06688300e-01,  1.94242820e-01,  2.20913470e-01]],\n",
       " \n",
       "        [[ 1.25099849e-02,  3.88157815e-02,  5.07336520e-02, ...,\n",
       "           5.65308370e-02,  7.19554946e-02,  7.25766197e-02],\n",
       "         [ 2.41249111e-02,  3.88542973e-02,  4.14224863e-02, ...,\n",
       "           6.26607984e-02,  5.38017154e-02,  4.94738482e-02],\n",
       "         [ 1.63779855e-01,  7.00593948e-01,  7.00593948e-01, ...,\n",
       "           7.18533516e-01,  8.51328015e-01,  6.89905763e-01],\n",
       "         ...,\n",
       "         [ 5.39828949e-02,  4.88270074e-01,  7.75962234e-01, ...,\n",
       "           1.73750210e+00,  2.03111291e+00,  1.87792468e+00],\n",
       "         [ 1.58623164e-03,  3.52409296e-03,  4.95313108e-03, ...,\n",
       "           1.04581732e-02,  9.50548146e-03,  1.11641865e-02],\n",
       "         [ 4.86209430e-02,  1.07775569e-01,  1.64971083e-01, ...,\n",
       "           2.73893803e-01,  2.65530437e-01,  2.49363795e-01]]],\n",
       "       dtype=float32),\n",
       " array([[[ 2.00453792e-02,  5.68414070e-02,  5.93989827e-02, ...,\n",
       "           1.18436500e-01,  9.14174765e-02,  8.24456438e-02],\n",
       "         [ 2.49168482e-02,  5.26832789e-02,  6.23425096e-02, ...,\n",
       "           1.02351636e-01,  9.96355563e-02,  1.18149459e-01],\n",
       "         [ 7.91955292e-02,  4.89414990e-01,  7.81425357e-01, ...,\n",
       "           7.89123595e-01,  7.50529289e-01,  6.95438862e-01],\n",
       "         ...,\n",
       "         [ 3.16429436e-02,  2.25477472e-01,  6.46222532e-01, ...,\n",
       "           1.85976899e+00,  1.88530028e+00,  1.79466391e+00],\n",
       "         [ 2.92264647e-03,  2.52191117e-03,  3.80917871e-03, ...,\n",
       "           7.31561333e-03,  7.36854086e-03,  6.04006555e-03],\n",
       "         [ 1.52859882e-01,  4.44670498e-01,  4.68879402e-01, ...,\n",
       "           3.15919667e-01,  3.43697935e-01,  4.13183451e-01]],\n",
       " \n",
       "        [[ 7.10765366e-03,  3.59876379e-02,  5.15877083e-02, ...,\n",
       "           1.14088610e-01,  8.90364945e-02,  7.78078958e-02],\n",
       "         [-1.80551899e-03,  2.60839127e-02,  2.79595554e-02, ...,\n",
       "           9.62245390e-02,  1.21666573e-01,  1.11441776e-01],\n",
       "         [ 2.40184799e-01,  5.69424033e-01,  7.48096824e-01, ...,\n",
       "           7.20698655e-01,  6.65127039e-01,  6.94209218e-01],\n",
       "         ...,\n",
       "         [ 4.66487594e-02,  1.82357818e-01,  3.06124210e-01, ...,\n",
       "           1.30063188e+00,  1.28206372e+00,  1.43084192e+00],\n",
       "         [ 8.64707690e-04,  2.09760270e-03,  4.34354134e-03, ...,\n",
       "           9.98182781e-03,  1.05772596e-02,  9.92228370e-03],\n",
       "         [-1.71620492e-02,  1.39578367e-02,  1.23218242e-02, ...,\n",
       "           9.80642885e-02,  1.63278520e-01,  8.55391696e-02]],\n",
       " \n",
       "        [[ 2.47757211e-02,  6.07867129e-02,  6.05129525e-02, ...,\n",
       "           8.85188803e-02,  1.08570144e-01,  8.96576196e-02],\n",
       "         [ 2.54170187e-02,  4.78885844e-02,  4.99114990e-02, ...,\n",
       "           7.53924251e-02,  8.39332268e-02,  7.77849108e-02],\n",
       "         [ 7.91955292e-02,  4.17034119e-01,  5.13471961e-01, ...,\n",
       "           4.99422669e-01,  6.56359673e-01,  5.55427313e-01],\n",
       "         ...,\n",
       "         [ 6.41333908e-02,  3.97459626e-01,  1.72509098e+00, ...,\n",
       "           1.83466303e+00,  2.07585716e+00,  2.20593166e+00],\n",
       "         [ 2.31776270e-03,  3.68398521e-03,  3.27045401e-03, ...,\n",
       "           4.52369824e-03,  5.07943425e-03,  4.64278460e-03],\n",
       "         [ 3.58641148e-02,  9.78651568e-02,  1.71741426e-01, ...,\n",
       "           1.45556182e-01,  1.89762443e-01,  2.06464291e-01]],\n",
       " \n",
       "        [[ 2.69496664e-02,  5.98252565e-02,  5.18594496e-02, ...,\n",
       "           5.84021844e-02,  8.09618384e-02,  8.97611454e-02],\n",
       "         [ 2.04309393e-02,  4.27145921e-02,  5.92869222e-02, ...,\n",
       "           9.80334952e-02,  1.11247271e-01,  8.85802656e-02],\n",
       "         [ 3.91315013e-01,  8.89530420e-01,  7.23585486e-01, ...,\n",
       "           9.63754237e-01,  8.36137712e-01,  6.23642206e-01],\n",
       "         ...,\n",
       "         [ 6.78313822e-02,  3.31351608e-01,  6.92666113e-01, ...,\n",
       "           1.92382956e+00,  1.70147443e+00,  1.70629692e+00],\n",
       "         [ 4.03941283e-03,  7.83827063e-03,  7.52732344e-03, ...,\n",
       "           9.73514840e-03,  1.15044331e-02,  1.07558891e-02],\n",
       "         [ 4.10640575e-02,  3.82264890e-02,  1.01847701e-01, ...,\n",
       "           2.41236925e-01,  2.00751811e-01,  2.88927943e-01]],\n",
       " \n",
       "        [[ 1.52143901e-02,  3.39244045e-02,  4.58438098e-02, ...,\n",
       "           7.81943724e-02,  8.21483433e-02,  1.34323016e-01],\n",
       "         [ 1.78950038e-02,  5.45311309e-02,  7.90527612e-02, ...,\n",
       "           7.75514990e-02,  8.71797875e-02,  9.62245390e-02],\n",
       "         [ 2.69822985e-01,  8.13318014e-01,  8.96623790e-01, ...,\n",
       "           5.68129301e-01,  6.88221753e-01,  6.04311109e-01],\n",
       "         ...,\n",
       "         [ 2.35314127e-02,  3.43205452e-01,  9.12555039e-01, ...,\n",
       "           1.11169970e+00,  9.60213661e-01,  8.75109017e-01],\n",
       "         [ 3.72978812e-03,  2.98778783e-03,  6.75458414e-03, ...,\n",
       "           1.00073460e-02,  9.00928769e-03,  1.17085809e-02],\n",
       "         [-4.95735509e-03,  7.37110004e-02,  1.97010711e-01, ...,\n",
       "           2.00774223e-01,  2.68318236e-01,  1.76303267e-01]]],\n",
       "       dtype=float32))"
      ]
     },
     "execution_count": 48,
     "metadata": {},
     "output_type": "execute_result"
    }
   ],
   "source": [
    "(data100k['DrQ_eps_layer_funct_dense']['DrQ_eps_layer_funct_dense_LeakyReLU'], \n",
    "data100k['DER_layer_funct_dense']['DER_layer_funct_dense_LeakyReLU'])"
   ]
  },
  {
   "cell_type": "code",
   "execution_count": null,
   "id": "64167644-f228-4586-8a05-6478ee46ad78",
   "metadata": {},
   "outputs": [],
   "source": [
    "data['DrQ_eps_layer_funct_dense']['DrQ_eps_layer_funct_dense_LeakyReLU']"
   ]
  },
  {
   "cell_type": "code",
   "execution_count": 5,
   "id": "8684d459-4c35-49b9-9dc2-671b3c2f3a58",
   "metadata": {},
   "outputs": [],
   "source": [
    "data2[\"DER_convs_normalization\"] = data2.pop(\"DER_convs_normalizations\")\n",
    "data2[\"DrQ_eps_convs_normalization\"] = data2.pop(\"DrQ_eps_convs_normalizations\")"
   ]
  },
  {
   "cell_type": "code",
   "execution_count": 6,
   "id": "aafd5ad9-f4b5-43fb-82e0-4edb3c607de9",
   "metadata": {},
   "outputs": [],
   "source": [
    "with open(f'data/100k_experiments/human_normalized_curve/convs_normalization.pickle', mode='wb') as f:\n",
    "    pickle.dump(data2, f, protocol=pickle.HIGHEST_PROTOCOL)"
   ]
  },
  {
   "cell_type": "code",
   "execution_count": 12,
   "id": "25c132c3-ddca-488c-a54a-270f5d66b430",
   "metadata": {},
   "outputs": [
    {
     "data": {
      "text/plain": [
       "((5, 26), (5, 26, 40))"
      ]
     },
     "execution_count": 12,
     "metadata": {},
     "output_type": "execute_result"
    }
   ],
   "source": [
    "data['DER_depths']['DER_depths_1'].shape, data2['DER_convs_normalization']['DER_normalizations_convs_non_normalization'].shape"
   ]
  },
  {
   "cell_type": "code",
   "execution_count": 44,
   "id": "c55b9c5c-ea90-403d-85aa-e74acb2ac056",
   "metadata": {},
   "outputs": [
    {
     "data": {
      "text/plain": [
       "(dict_keys(['DER_convs_normalization', 'DrQ_eps_convs_normalization']),\n",
       " dict_keys(['DER_convs_normalization', 'DrQ_eps_convs_normalization']))"
      ]
     },
     "execution_count": 44,
     "metadata": {},
     "output_type": "execute_result"
    }
   ],
   "source": [
    "data100k.keys(), data40M.keys()"
   ]
  },
  {
   "cell_type": "code",
   "execution_count": 22,
   "id": "c8565f68-7a37-4b3d-bb4f-b8b2fd372330",
   "metadata": {},
   "outputs": [
    {
     "data": {
      "text/plain": [
       "['update_periods',\n",
       " 'min_replay_history',\n",
       " 'learning_rate',\n",
       " 'epsilon',\n",
       " 'widths',\n",
       " 'target_update_periods',\n",
       " 'clip_rewards',\n",
       " 'weightdecay',\n",
       " 'convs_normalization',\n",
       " 'optimizers',\n",
       " 'depths',\n",
       " 'normalizations',\n",
       " 'gammas',\n",
       " 'update_horizon',\n",
       " 'num_atoms',\n",
       " 'convs',\n",
       " 'replay_capacity',\n",
       " 'layer_funct',\n",
       " 'batch_sizes']"
      ]
     },
     "execution_count": 22,
     "metadata": {},
     "output_type": "execute_result"
    }
   ],
   "source": [
    "final_perf_data = [data.split('/')[-1][:-7] for data in glob.glob(\"data/100k_experiments/final_perf/*\")]\n",
    "final_perf_data"
   ]
  },
  {
   "cell_type": "code",
   "execution_count": 23,
   "id": "0e980750-b4cd-47c8-a16b-8bec6ac6bdd3",
   "metadata": {},
   "outputs": [
    {
     "data": {
      "text/plain": [
       "['min_replay_history',\n",
       " 'learning_rate',\n",
       " 'epsilon',\n",
       " 'weightdecay',\n",
       " 'normalizations_convs',\n",
       " 'depths',\n",
       " 'normalizations',\n",
       " 'gammas',\n",
       " 'update_horizon',\n",
       " 'num_atoms',\n",
       " 'layer_funct']"
      ]
     },
     "execution_count": 23,
     "metadata": {},
     "output_type": "execute_result"
    }
   ],
   "source": [
    "hns_data = [data.split('/')[-1][:-7] for data in glob.glob(\"data/100k_experiments/human_normalized_curve/*\")]\n",
    "hns_data"
   ]
  },
  {
   "cell_type": "code",
   "execution_count": 24,
   "id": "aa780526-7da9-4857-85fb-5c8a81949a4b",
   "metadata": {},
   "outputs": [
    {
     "data": {
      "text/plain": [
       "{'batch_sizes',\n",
       " 'clip_rewards',\n",
       " 'convs',\n",
       " 'convs_normalization',\n",
       " 'optimizers',\n",
       " 'replay_capacity',\n",
       " 'target_update_periods',\n",
       " 'update_periods',\n",
       " 'widths'}"
      ]
     },
     "execution_count": 24,
     "metadata": {},
     "output_type": "execute_result"
    }
   ],
   "source": [
    "set(final_perf_data) - set(hns_data)"
   ]
  },
  {
   "cell_type": "code",
   "execution_count": null,
   "id": "c6074f45-9d22-45ff-86dd-60930ccb52c0",
   "metadata": {},
   "outputs": [],
   "source": []
  }
 ],
 "metadata": {
  "kernelspec": {
   "display_name": "Python 3 (ipykernel)",
   "language": "python",
   "name": "python3"
  },
  "language_info": {
   "codemirror_mode": {
    "name": "ipython",
    "version": 3
   },
   "file_extension": ".py",
   "mimetype": "text/x-python",
   "name": "python",
   "nbconvert_exporter": "python",
   "pygments_lexer": "ipython3",
   "version": "3.8.11"
  }
 },
 "nbformat": 4,
 "nbformat_minor": 5
}
